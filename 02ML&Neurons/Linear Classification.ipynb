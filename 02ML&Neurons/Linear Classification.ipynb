{
 "cells": [
  {
   "cell_type": "markdown",
   "metadata": {},
   "source": [
    "# Breast Cancer Binary Classification"
   ]
  },
  {
   "cell_type": "code",
   "execution_count": 6,
   "metadata": {},
   "outputs": [
    {
     "name": "stdout",
     "output_type": "stream",
     "text": [
      "2.0.0\n"
     ]
    }
   ],
   "source": [
    "import tensorflow as tf\n",
    "from sklearn.datasets import load_breast_cancer\n",
    "print(tf.__version__)"
   ]
  },
  {
   "cell_type": "code",
   "execution_count": 10,
   "metadata": {},
   "outputs": [
    {
     "name": "stdout",
     "output_type": "stream",
     "text": [
      "<class 'sklearn.utils.Bunch'>\n"
     ]
    }
   ],
   "source": [
    "data = load_breast_cancer()\n",
    "# Check the type of 'data'\n",
    "print(type(data))"
   ]
  },
  {
   "cell_type": "code",
   "execution_count": 11,
   "metadata": {},
   "outputs": [
    {
     "data": {
      "text/plain": [
       "dict_keys(['data', 'target', 'target_names', 'DESCR', 'feature_names', 'filename'])"
      ]
     },
     "execution_count": 11,
     "metadata": {},
     "output_type": "execute_result"
    }
   ],
   "source": [
    "# Here the data is a Bunch Object\n",
    "# This basically acts like a dictionary\n",
    "data.keys()"
   ]
  },
  {
   "cell_type": "code",
   "execution_count": 12,
   "metadata": {},
   "outputs": [
    {
     "data": {
      "text/plain": [
       "(569, 30)"
      ]
     },
     "execution_count": 12,
     "metadata": {},
     "output_type": "execute_result"
    }
   ],
   "source": [
    "# 'data' (the_attribute) means the input data\n",
    "data.data.shape"
   ]
  },
  {
   "cell_type": "code",
   "execution_count": 13,
   "metadata": {},
   "outputs": [
    {
     "data": {
      "text/plain": [
       "array([0, 0, 0, 0, 0, 0, 0, 0, 0, 0, 0, 0, 0, 0, 0, 0, 0, 0, 0, 1, 1, 1,\n",
       "       0, 0, 0, 0, 0, 0, 0, 0, 0, 0, 0, 0, 0, 0, 0, 1, 0, 0, 0, 0, 0, 0,\n",
       "       0, 0, 1, 0, 1, 1, 1, 1, 1, 0, 0, 1, 0, 0, 1, 1, 1, 1, 0, 1, 0, 0,\n",
       "       1, 1, 1, 1, 0, 1, 0, 0, 1, 0, 1, 0, 0, 1, 1, 1, 0, 0, 1, 0, 0, 0,\n",
       "       1, 1, 1, 0, 1, 1, 0, 0, 1, 1, 1, 0, 0, 1, 1, 1, 1, 0, 1, 1, 0, 1,\n",
       "       1, 1, 1, 1, 1, 1, 1, 0, 0, 0, 1, 0, 0, 1, 1, 1, 0, 0, 1, 0, 1, 0,\n",
       "       0, 1, 0, 0, 1, 1, 0, 1, 1, 0, 1, 1, 1, 1, 0, 1, 1, 1, 1, 1, 1, 1,\n",
       "       1, 1, 0, 1, 1, 1, 1, 0, 0, 1, 0, 1, 1, 0, 0, 1, 1, 0, 0, 1, 1, 1,\n",
       "       1, 0, 1, 1, 0, 0, 0, 1, 0, 1, 0, 1, 1, 1, 0, 1, 1, 0, 0, 1, 0, 0,\n",
       "       0, 0, 1, 0, 0, 0, 1, 0, 1, 0, 1, 1, 0, 1, 0, 0, 0, 0, 1, 1, 0, 0,\n",
       "       1, 1, 1, 0, 1, 1, 1, 1, 1, 0, 0, 1, 1, 0, 1, 1, 0, 0, 1, 0, 1, 1,\n",
       "       1, 1, 0, 1, 1, 1, 1, 1, 0, 1, 0, 0, 0, 0, 0, 0, 0, 0, 0, 0, 0, 0,\n",
       "       0, 0, 1, 1, 1, 1, 1, 1, 0, 1, 0, 1, 1, 0, 1, 1, 0, 1, 0, 0, 1, 1,\n",
       "       1, 1, 1, 1, 1, 1, 1, 1, 1, 1, 1, 0, 1, 1, 0, 1, 0, 1, 1, 1, 1, 1,\n",
       "       1, 1, 1, 1, 1, 1, 1, 1, 1, 0, 1, 1, 1, 0, 1, 0, 1, 1, 1, 1, 0, 0,\n",
       "       0, 1, 1, 1, 1, 0, 1, 0, 1, 0, 1, 1, 1, 0, 1, 1, 1, 1, 1, 1, 1, 0,\n",
       "       0, 0, 1, 1, 1, 1, 1, 1, 1, 1, 1, 1, 1, 0, 0, 1, 0, 0, 0, 1, 0, 0,\n",
       "       1, 1, 1, 1, 1, 0, 1, 1, 1, 1, 1, 0, 1, 1, 1, 0, 1, 1, 0, 0, 1, 1,\n",
       "       1, 1, 1, 1, 0, 1, 1, 1, 1, 1, 1, 1, 0, 1, 1, 1, 1, 1, 0, 1, 1, 0,\n",
       "       1, 1, 1, 1, 1, 1, 1, 1, 1, 1, 1, 1, 0, 1, 0, 0, 1, 0, 1, 1, 1, 1,\n",
       "       1, 0, 1, 1, 0, 1, 0, 1, 1, 0, 1, 0, 1, 1, 1, 1, 1, 1, 1, 1, 0, 0,\n",
       "       1, 1, 1, 1, 1, 1, 0, 1, 1, 1, 1, 1, 1, 1, 1, 1, 1, 0, 1, 1, 1, 1,\n",
       "       1, 1, 1, 0, 1, 0, 1, 1, 0, 1, 1, 1, 1, 1, 0, 0, 1, 0, 1, 0, 1, 1,\n",
       "       1, 1, 1, 0, 1, 1, 0, 1, 0, 1, 0, 0, 1, 1, 1, 0, 1, 1, 1, 1, 1, 1,\n",
       "       1, 1, 1, 1, 1, 0, 1, 0, 0, 1, 1, 1, 1, 1, 1, 1, 1, 1, 1, 1, 1, 1,\n",
       "       1, 1, 1, 1, 1, 1, 1, 1, 1, 1, 1, 1, 0, 0, 0, 0, 0, 0, 1])"
      ]
     },
     "execution_count": 13,
     "metadata": {},
     "output_type": "execute_result"
    }
   ],
   "source": [
    "# (569, 30) -> 569 Observations and 30 Input features.\n",
    "# 'target'\n",
    "data.target"
   ]
  },
  {
   "cell_type": "code",
   "execution_count": 16,
   "metadata": {},
   "outputs": [
    {
     "data": {
      "text/plain": [
       "array(['malignant', 'benign'], dtype='<U9')"
      ]
     },
     "execution_count": 16,
     "metadata": {},
     "output_type": "execute_result"
    }
   ],
   "source": [
    "# The meaning of target i.e 0 and 1\n",
    "data.target_names"
   ]
  },
  {
   "cell_type": "code",
   "execution_count": 18,
   "metadata": {},
   "outputs": [
    {
     "data": {
      "text/plain": [
       "(569,)"
      ]
     },
     "execution_count": 18,
     "metadata": {},
     "output_type": "execute_result"
    }
   ],
   "source": [
    "# Shape of the target\n",
    "data.target.shape"
   ]
  },
  {
   "cell_type": "code",
   "execution_count": 24,
   "metadata": {},
   "outputs": [
    {
     "data": {
      "text/plain": [
       "array(['mean radius', 'mean texture', 'mean perimeter', 'mean area',\n",
       "       'mean smoothness', 'mean compactness', 'mean concavity',\n",
       "       'mean concave points', 'mean symmetry', 'mean fractal dimension',\n",
       "       'radius error', 'texture error', 'perimeter error', 'area error',\n",
       "       'smoothness error', 'compactness error', 'concavity error',\n",
       "       'concave points error', 'symmetry error',\n",
       "       'fractal dimension error', 'worst radius', 'worst texture',\n",
       "       'worst perimeter', 'worst area', 'worst smoothness',\n",
       "       'worst compactness', 'worst concavity', 'worst concave points',\n",
       "       'worst symmetry', 'worst fractal dimension'], dtype='<U23')"
      ]
     },
     "execution_count": 24,
     "metadata": {},
     "output_type": "execute_result"
    }
   ],
   "source": [
    "data.feature_names"
   ]
  },
  {
   "cell_type": "code",
   "execution_count": 36,
   "metadata": {},
   "outputs": [],
   "source": [
    "# import train_test_split function from sklearn.model_selection\n",
    "from sklearn.model_selection import train_test_split\n",
    "X = data.data\n",
    "Y = data.target\n",
    "# split the data into train and test sets\n",
    "# this lets us simulate how our model will perform in test sets.\n",
    "X_train, X_test, y_train, y_test = train_test_split(X, Y, test_size=0.33)"
   ]
  },
  {
   "cell_type": "code",
   "execution_count": 37,
   "metadata": {},
   "outputs": [
    {
     "name": "stdout",
     "output_type": "stream",
     "text": [
      "The shape of our train set is: (381, 30)\n"
     ]
    }
   ],
   "source": [
    "print(f'The shape of our train set is: {X_train.shape}')\n",
    "\n",
    "m, n = X_train.shape\n",
    "# m and n are the number of training samples and input features respectively."
   ]
  },
  {
   "cell_type": "code",
   "execution_count": 38,
   "metadata": {},
   "outputs": [],
   "source": [
    "# Scale the data\n",
    "# Normalization Z = (x - mhu)/std\n",
    "from sklearn.preprocessing import StandardScaler\n",
    "\n",
    "scaler = StandardScaler()\n",
    "X_train = scaler.fit_transform(X_train)\n",
    "X_test = scaler.fit_transform(X_test)"
   ]
  },
  {
   "cell_type": "code",
   "execution_count": 39,
   "metadata": {},
   "outputs": [
    {
     "name": "stdout",
     "output_type": "stream",
     "text": [
      "Train on 381 samples, validate on 188 samples\n",
      "Epoch 1/100\n",
      "381/381 [==============================] - 0s 1ms/sample - loss: 0.9323 - accuracy: 0.3386 - val_loss: 0.8681 - val_accuracy: 0.3564\n",
      "Epoch 2/100\n",
      "381/381 [==============================] - 0s 154us/sample - loss: 0.8443 - accuracy: 0.4278 - val_loss: 0.7883 - val_accuracy: 0.4734\n",
      "Epoch 3/100\n",
      "381/381 [==============================] - 0s 143us/sample - loss: 0.7644 - accuracy: 0.5013 - val_loss: 0.7196 - val_accuracy: 0.5851\n",
      "Epoch 4/100\n",
      "381/381 [==============================] - 0s 171us/sample - loss: 0.6960 - accuracy: 0.5906 - val_loss: 0.6609 - val_accuracy: 0.6543\n",
      "Epoch 5/100\n",
      "381/381 [==============================] - 0s 172us/sample - loss: 0.6376 - accuracy: 0.6614 - val_loss: 0.6102 - val_accuracy: 0.7074\n",
      "Epoch 6/100\n",
      "381/381 [==============================] - 0s 175us/sample - loss: 0.5873 - accuracy: 0.7113 - val_loss: 0.5667 - val_accuracy: 0.7660\n",
      "Epoch 7/100\n",
      "381/381 [==============================] - 0s 169us/sample - loss: 0.5435 - accuracy: 0.7690 - val_loss: 0.5299 - val_accuracy: 0.7766\n",
      "Epoch 8/100\n",
      "381/381 [==============================] - 0s 211us/sample - loss: 0.5057 - accuracy: 0.7979 - val_loss: 0.4983 - val_accuracy: 0.8085\n",
      "Epoch 9/100\n",
      "381/381 [==============================] - 0s 172us/sample - loss: 0.4739 - accuracy: 0.8241 - val_loss: 0.4703 - val_accuracy: 0.8245\n",
      "Epoch 10/100\n",
      "381/381 [==============================] - 0s 181us/sample - loss: 0.4457 - accuracy: 0.8530 - val_loss: 0.4461 - val_accuracy: 0.8457\n",
      "Epoch 11/100\n",
      "381/381 [==============================] - 0s 201us/sample - loss: 0.4207 - accuracy: 0.8688 - val_loss: 0.4244 - val_accuracy: 0.8723\n",
      "Epoch 12/100\n",
      "381/381 [==============================] - 0s 169us/sample - loss: 0.3984 - accuracy: 0.8740 - val_loss: 0.4054 - val_accuracy: 0.8777\n",
      "Epoch 13/100\n",
      "381/381 [==============================] - 0s 174us/sample - loss: 0.3791 - accuracy: 0.8819 - val_loss: 0.3882 - val_accuracy: 0.8830\n",
      "Epoch 14/100\n",
      "381/381 [==============================] - 0s 185us/sample - loss: 0.3613 - accuracy: 0.8871 - val_loss: 0.3725 - val_accuracy: 0.8883\n",
      "Epoch 15/100\n",
      "381/381 [==============================] - 0s 137us/sample - loss: 0.3453 - accuracy: 0.8871 - val_loss: 0.3585 - val_accuracy: 0.8989\n",
      "Epoch 16/100\n",
      "381/381 [==============================] - 0s 149us/sample - loss: 0.3312 - accuracy: 0.8950 - val_loss: 0.3453 - val_accuracy: 0.8989\n",
      "Epoch 17/100\n",
      "381/381 [==============================] - 0s 144us/sample - loss: 0.3182 - accuracy: 0.8976 - val_loss: 0.3333 - val_accuracy: 0.9149\n",
      "Epoch 18/100\n",
      "381/381 [==============================] - 0s 170us/sample - loss: 0.3059 - accuracy: 0.9029 - val_loss: 0.3225 - val_accuracy: 0.9255\n",
      "Epoch 19/100\n",
      "381/381 [==============================] - 0s 156us/sample - loss: 0.2954 - accuracy: 0.9055 - val_loss: 0.3121 - val_accuracy: 0.9255\n",
      "Epoch 20/100\n",
      "381/381 [==============================] - 0s 149us/sample - loss: 0.2851 - accuracy: 0.9081 - val_loss: 0.3027 - val_accuracy: 0.9255\n",
      "Epoch 21/100\n",
      "381/381 [==============================] - 0s 155us/sample - loss: 0.2758 - accuracy: 0.9108 - val_loss: 0.2940 - val_accuracy: 0.9255\n",
      "Epoch 22/100\n",
      "381/381 [==============================] - 0s 248us/sample - loss: 0.2673 - accuracy: 0.9160 - val_loss: 0.2858 - val_accuracy: 0.9255\n",
      "Epoch 23/100\n",
      "381/381 [==============================] - 0s 247us/sample - loss: 0.2595 - accuracy: 0.9160 - val_loss: 0.2780 - val_accuracy: 0.9255\n",
      "Epoch 24/100\n",
      "381/381 [==============================] - 0s 278us/sample - loss: 0.2520 - accuracy: 0.9134 - val_loss: 0.2709 - val_accuracy: 0.9255\n",
      "Epoch 25/100\n",
      "381/381 [==============================] - 0s 210us/sample - loss: 0.2452 - accuracy: 0.9160 - val_loss: 0.2641 - val_accuracy: 0.9255\n",
      "Epoch 26/100\n",
      "381/381 [==============================] - 0s 172us/sample - loss: 0.2389 - accuracy: 0.9213 - val_loss: 0.2574 - val_accuracy: 0.9255\n",
      "Epoch 27/100\n",
      "381/381 [==============================] - 0s 163us/sample - loss: 0.2327 - accuracy: 0.9213 - val_loss: 0.2515 - val_accuracy: 0.9309\n",
      "Epoch 28/100\n",
      "381/381 [==============================] - 0s 203us/sample - loss: 0.2271 - accuracy: 0.9265 - val_loss: 0.2458 - val_accuracy: 0.9309\n",
      "Epoch 29/100\n",
      "381/381 [==============================] - 0s 236us/sample - loss: 0.2219 - accuracy: 0.9318 - val_loss: 0.2401 - val_accuracy: 0.9309\n",
      "Epoch 30/100\n",
      "381/381 [==============================] - 0s 280us/sample - loss: 0.2169 - accuracy: 0.9344 - val_loss: 0.2350 - val_accuracy: 0.9362\n",
      "Epoch 31/100\n",
      "381/381 [==============================] - 0s 355us/sample - loss: 0.2121 - accuracy: 0.9370 - val_loss: 0.2299 - val_accuracy: 0.9415\n",
      "Epoch 32/100\n",
      "381/381 [==============================] - 0s 272us/sample - loss: 0.2077 - accuracy: 0.9423 - val_loss: 0.2251 - val_accuracy: 0.9415\n",
      "Epoch 33/100\n",
      "381/381 [==============================] - 0s 153us/sample - loss: 0.2035 - accuracy: 0.9423 - val_loss: 0.2206 - val_accuracy: 0.9415\n",
      "Epoch 34/100\n",
      "381/381 [==============================] - 0s 162us/sample - loss: 0.1995 - accuracy: 0.9449 - val_loss: 0.2163 - val_accuracy: 0.9415\n",
      "Epoch 35/100\n",
      "381/381 [==============================] - 0s 152us/sample - loss: 0.1958 - accuracy: 0.9449 - val_loss: 0.2120 - val_accuracy: 0.9415\n",
      "Epoch 36/100\n",
      "381/381 [==============================] - 0s 196us/sample - loss: 0.1921 - accuracy: 0.9475 - val_loss: 0.2081 - val_accuracy: 0.9415\n",
      "Epoch 37/100\n",
      "381/381 [==============================] - 0s 187us/sample - loss: 0.1887 - accuracy: 0.9475 - val_loss: 0.2044 - val_accuracy: 0.9415\n",
      "Epoch 38/100\n",
      "381/381 [==============================] - 0s 201us/sample - loss: 0.1855 - accuracy: 0.9475 - val_loss: 0.2007 - val_accuracy: 0.9415\n",
      "Epoch 39/100\n",
      "381/381 [==============================] - 0s 175us/sample - loss: 0.1824 - accuracy: 0.9475 - val_loss: 0.1971 - val_accuracy: 0.9415\n",
      "Epoch 40/100\n",
      "381/381 [==============================] - 0s 177us/sample - loss: 0.1795 - accuracy: 0.9475 - val_loss: 0.1936 - val_accuracy: 0.9415\n",
      "Epoch 41/100\n",
      "381/381 [==============================] - 0s 225us/sample - loss: 0.1766 - accuracy: 0.9501 - val_loss: 0.1904 - val_accuracy: 0.9415\n",
      "Epoch 42/100\n",
      "381/381 [==============================] - 0s 174us/sample - loss: 0.1739 - accuracy: 0.9501 - val_loss: 0.1873 - val_accuracy: 0.9415\n",
      "Epoch 43/100\n",
      "381/381 [==============================] - 0s 144us/sample - loss: 0.1713 - accuracy: 0.9501 - val_loss: 0.1843 - val_accuracy: 0.9415\n",
      "Epoch 44/100\n",
      "381/381 [==============================] - 0s 169us/sample - loss: 0.1689 - accuracy: 0.9501 - val_loss: 0.1812 - val_accuracy: 0.9468\n",
      "Epoch 45/100\n",
      "381/381 [==============================] - 0s 139us/sample - loss: 0.1664 - accuracy: 0.9501 - val_loss: 0.1786 - val_accuracy: 0.9468\n",
      "Epoch 46/100\n",
      "381/381 [==============================] - 0s 172us/sample - loss: 0.1641 - accuracy: 0.9501 - val_loss: 0.1760 - val_accuracy: 0.9468\n",
      "Epoch 47/100\n",
      "381/381 [==============================] - 0s 159us/sample - loss: 0.1619 - accuracy: 0.9501 - val_loss: 0.1734 - val_accuracy: 0.9468\n",
      "Epoch 48/100\n",
      "381/381 [==============================] - 0s 174us/sample - loss: 0.1599 - accuracy: 0.9501 - val_loss: 0.1706 - val_accuracy: 0.9468\n",
      "Epoch 49/100\n",
      "381/381 [==============================] - 0s 161us/sample - loss: 0.1578 - accuracy: 0.9501 - val_loss: 0.1682 - val_accuracy: 0.9468\n",
      "Epoch 50/100\n",
      "381/381 [==============================] - 0s 159us/sample - loss: 0.1559 - accuracy: 0.9554 - val_loss: 0.1658 - val_accuracy: 0.9468\n",
      "Epoch 51/100\n",
      "381/381 [==============================] - 0s 152us/sample - loss: 0.1539 - accuracy: 0.9580 - val_loss: 0.1635 - val_accuracy: 0.9468\n",
      "Epoch 52/100\n",
      "381/381 [==============================] - 0s 142us/sample - loss: 0.1522 - accuracy: 0.9580 - val_loss: 0.1613 - val_accuracy: 0.9521\n",
      "Epoch 53/100\n",
      "381/381 [==============================] - 0s 182us/sample - loss: 0.1504 - accuracy: 0.9580 - val_loss: 0.1591 - val_accuracy: 0.9574\n",
      "Epoch 54/100\n",
      "381/381 [==============================] - 0s 151us/sample - loss: 0.1487 - accuracy: 0.9580 - val_loss: 0.1569 - val_accuracy: 0.9628\n",
      "Epoch 55/100\n",
      "381/381 [==============================] - 0s 152us/sample - loss: 0.1470 - accuracy: 0.9580 - val_loss: 0.1550 - val_accuracy: 0.9681\n",
      "Epoch 56/100\n"
     ]
    },
    {
     "name": "stdout",
     "output_type": "stream",
     "text": [
      "381/381 [==============================] - 0s 117us/sample - loss: 0.1455 - accuracy: 0.9606 - val_loss: 0.1530 - val_accuracy: 0.9681\n",
      "Epoch 57/100\n",
      "381/381 [==============================] - 0s 172us/sample - loss: 0.1439 - accuracy: 0.9606 - val_loss: 0.1512 - val_accuracy: 0.9681\n",
      "Epoch 58/100\n",
      "381/381 [==============================] - 0s 149us/sample - loss: 0.1425 - accuracy: 0.9606 - val_loss: 0.1494 - val_accuracy: 0.9681\n",
      "Epoch 59/100\n",
      "381/381 [==============================] - 0s 165us/sample - loss: 0.1411 - accuracy: 0.9606 - val_loss: 0.1474 - val_accuracy: 0.9681\n",
      "Epoch 60/100\n",
      "381/381 [==============================] - 0s 155us/sample - loss: 0.1396 - accuracy: 0.9606 - val_loss: 0.1457 - val_accuracy: 0.9681\n",
      "Epoch 61/100\n",
      "381/381 [==============================] - 0s 159us/sample - loss: 0.1383 - accuracy: 0.9606 - val_loss: 0.1439 - val_accuracy: 0.9681\n",
      "Epoch 62/100\n",
      "381/381 [==============================] - 0s 131us/sample - loss: 0.1370 - accuracy: 0.9606 - val_loss: 0.1423 - val_accuracy: 0.9681\n",
      "Epoch 63/100\n",
      "381/381 [==============================] - 0s 137us/sample - loss: 0.1357 - accuracy: 0.9606 - val_loss: 0.1407 - val_accuracy: 0.9681\n",
      "Epoch 64/100\n",
      "381/381 [==============================] - 0s 178us/sample - loss: 0.1345 - accuracy: 0.9606 - val_loss: 0.1391 - val_accuracy: 0.9681\n",
      "Epoch 65/100\n",
      "381/381 [==============================] - 0s 155us/sample - loss: 0.1333 - accuracy: 0.9606 - val_loss: 0.1376 - val_accuracy: 0.9681\n",
      "Epoch 66/100\n",
      "381/381 [==============================] - 0s 129us/sample - loss: 0.1321 - accuracy: 0.9606 - val_loss: 0.1360 - val_accuracy: 0.9734\n",
      "Epoch 67/100\n",
      "381/381 [==============================] - 0s 159us/sample - loss: 0.1310 - accuracy: 0.9606 - val_loss: 0.1346 - val_accuracy: 0.9734\n",
      "Epoch 68/100\n",
      "381/381 [==============================] - 0s 138us/sample - loss: 0.1299 - accuracy: 0.9606 - val_loss: 0.1332 - val_accuracy: 0.9734\n",
      "Epoch 69/100\n",
      "381/381 [==============================] - 0s 135us/sample - loss: 0.1288 - accuracy: 0.9633 - val_loss: 0.1319 - val_accuracy: 0.9734\n",
      "Epoch 70/100\n",
      "381/381 [==============================] - 0s 129us/sample - loss: 0.1278 - accuracy: 0.9633 - val_loss: 0.1305 - val_accuracy: 0.9734\n",
      "Epoch 71/100\n",
      "381/381 [==============================] - 0s 128us/sample - loss: 0.1268 - accuracy: 0.9633 - val_loss: 0.1291 - val_accuracy: 0.9734\n",
      "Epoch 72/100\n",
      "381/381 [==============================] - 0s 124us/sample - loss: 0.1258 - accuracy: 0.9633 - val_loss: 0.1279 - val_accuracy: 0.9734\n",
      "Epoch 73/100\n",
      "381/381 [==============================] - 0s 220us/sample - loss: 0.1249 - accuracy: 0.9633 - val_loss: 0.1266 - val_accuracy: 0.9734\n",
      "Epoch 74/100\n",
      "381/381 [==============================] - 0s 136us/sample - loss: 0.1239 - accuracy: 0.9633 - val_loss: 0.1255 - val_accuracy: 0.9734\n",
      "Epoch 75/100\n",
      "381/381 [==============================] - 0s 151us/sample - loss: 0.1230 - accuracy: 0.9659 - val_loss: 0.1243 - val_accuracy: 0.9734\n",
      "Epoch 76/100\n",
      "381/381 [==============================] - 0s 127us/sample - loss: 0.1221 - accuracy: 0.9659 - val_loss: 0.1232 - val_accuracy: 0.9734\n",
      "Epoch 77/100\n",
      "381/381 [==============================] - 0s 142us/sample - loss: 0.1212 - accuracy: 0.9659 - val_loss: 0.1222 - val_accuracy: 0.9734\n",
      "Epoch 78/100\n",
      "381/381 [==============================] - 0s 151us/sample - loss: 0.1204 - accuracy: 0.9659 - val_loss: 0.1210 - val_accuracy: 0.9734\n",
      "Epoch 79/100\n",
      "381/381 [==============================] - 0s 149us/sample - loss: 0.1196 - accuracy: 0.9711 - val_loss: 0.1199 - val_accuracy: 0.9734\n",
      "Epoch 80/100\n",
      "381/381 [==============================] - 0s 136us/sample - loss: 0.1188 - accuracy: 0.9711 - val_loss: 0.1189 - val_accuracy: 0.9734\n",
      "Epoch 81/100\n",
      "381/381 [==============================] - 0s 142us/sample - loss: 0.1180 - accuracy: 0.9711 - val_loss: 0.1179 - val_accuracy: 0.9734\n",
      "Epoch 82/100\n",
      "381/381 [==============================] - 0s 140us/sample - loss: 0.1172 - accuracy: 0.9711 - val_loss: 0.1169 - val_accuracy: 0.9734\n",
      "Epoch 83/100\n",
      "381/381 [==============================] - 0s 121us/sample - loss: 0.1165 - accuracy: 0.9711 - val_loss: 0.1158 - val_accuracy: 0.9734\n",
      "Epoch 84/100\n",
      "381/381 [==============================] - 0s 126us/sample - loss: 0.1157 - accuracy: 0.9711 - val_loss: 0.1150 - val_accuracy: 0.9734\n",
      "Epoch 85/100\n",
      "381/381 [==============================] - 0s 142us/sample - loss: 0.1150 - accuracy: 0.9711 - val_loss: 0.1140 - val_accuracy: 0.9734\n",
      "Epoch 86/100\n",
      "381/381 [==============================] - 0s 135us/sample - loss: 0.1143 - accuracy: 0.9738 - val_loss: 0.1131 - val_accuracy: 0.9734\n",
      "Epoch 87/100\n",
      "381/381 [==============================] - 0s 135us/sample - loss: 0.1136 - accuracy: 0.9738 - val_loss: 0.1122 - val_accuracy: 0.9734\n",
      "Epoch 88/100\n",
      "381/381 [==============================] - 0s 151us/sample - loss: 0.1130 - accuracy: 0.9764 - val_loss: 0.1114 - val_accuracy: 0.9734\n",
      "Epoch 89/100\n",
      "381/381 [==============================] - 0s 138us/sample - loss: 0.1123 - accuracy: 0.9764 - val_loss: 0.1105 - val_accuracy: 0.9787\n",
      "Epoch 90/100\n",
      "381/381 [==============================] - 0s 141us/sample - loss: 0.1117 - accuracy: 0.9764 - val_loss: 0.1097 - val_accuracy: 0.9787\n",
      "Epoch 91/100\n",
      "381/381 [==============================] - 0s 123us/sample - loss: 0.1110 - accuracy: 0.9764 - val_loss: 0.1089 - val_accuracy: 0.9787\n",
      "Epoch 92/100\n",
      "381/381 [==============================] - 0s 130us/sample - loss: 0.1104 - accuracy: 0.9764 - val_loss: 0.1081 - val_accuracy: 0.9787\n",
      "Epoch 93/100\n",
      "381/381 [==============================] - 0s 136us/sample - loss: 0.1098 - accuracy: 0.9764 - val_loss: 0.1073 - val_accuracy: 0.9787\n",
      "Epoch 94/100\n",
      "381/381 [==============================] - 0s 145us/sample - loss: 0.1092 - accuracy: 0.9764 - val_loss: 0.1066 - val_accuracy: 0.9787\n",
      "Epoch 95/100\n",
      "381/381 [==============================] - 0s 144us/sample - loss: 0.1086 - accuracy: 0.9764 - val_loss: 0.1059 - val_accuracy: 0.9787\n",
      "Epoch 96/100\n",
      "381/381 [==============================] - 0s 140us/sample - loss: 0.1081 - accuracy: 0.9764 - val_loss: 0.1051 - val_accuracy: 0.9787\n",
      "Epoch 97/100\n",
      "381/381 [==============================] - 0s 171us/sample - loss: 0.1075 - accuracy: 0.9764 - val_loss: 0.1044 - val_accuracy: 0.9787\n",
      "Epoch 98/100\n",
      "381/381 [==============================] - 0s 167us/sample - loss: 0.1070 - accuracy: 0.9764 - val_loss: 0.1037 - val_accuracy: 0.9787\n",
      "Epoch 99/100\n",
      "381/381 [==============================] - 0s 122us/sample - loss: 0.1064 - accuracy: 0.9764 - val_loss: 0.1030 - val_accuracy: 0.9787\n",
      "Epoch 100/100\n",
      "381/381 [==============================] - 0s 129us/sample - loss: 0.1059 - accuracy: 0.9764 - val_loss: 0.1023 - val_accuracy: 0.9787\n"
     ]
    }
   ],
   "source": [
    "# Build the Model\n",
    "\n",
    "model = tf.keras.models.Sequential([\n",
    "    tf.keras.layers.Input(shape=(n,)),\n",
    "    tf.keras.layers.Dense(units=1, activation='sigmoid')\n",
    "])\n",
    "\n",
    "# Alternative way of initializing the Sequential Class of Keras module\n",
    "# model = tf.keras.models.Sequential() # creating a class object\n",
    "# model.add(tf.keras.layers.Dense(1, input_shape=(n,), activation='sigmoid'))\n",
    "\n",
    "model.compile(optimizer='adam',\n",
    "             loss='binary_crossentropy',\n",
    "             metrics=['accuracy'])\n",
    "\n",
    "# Train the model\n",
    "results = model.fit(x=X_train, \n",
    "                    y=y_train, \n",
    "                    validation_data=(X_test, y_test), \n",
    "                    epochs=100,\n",
    "                   shuffle=True,\n",
    "                   steps_per_epoch=None,\n",
    "                   validation_steps=None,\n",
    "                   workers=4,\n",
    "                   use_multiprocessing=True)"
   ]
  },
  {
   "cell_type": "code",
   "execution_count": 41,
   "metadata": {},
   "outputs": [
    {
     "data": {
      "image/png": "[encoded data removed]",
      "text/plain": [
       "<Figure size 432x288 with 1 Axes>"
      ]
     },
     "metadata": {
      "needs_background": "light"
     },
     "output_type": "display_data"
    }
   ],
   "source": [
    "# Plot what's returned by model.fit()\n",
    "import matplotlib.pyplot as plt\n",
    "plt.plot(results.history['loss'], label='Loss')\n",
    "plt.plot(results.history['val_loss'], label='Validation Loss')\n",
    "plt.title(\"Epochs vs Loss\")\n",
    "plt.xlabel(\"epochs\")\n",
    "plt.ylabel(\"Loss\")\n",
    "plt.legend()\n",
    "plt.show()"
   ]
  },
  {
   "cell_type": "code",
   "execution_count": 42,
   "metadata": {},
   "outputs": [
    {
     "data": {
      "image/png": "[encoded data removed]",
      "text/plain": [
       "<Figure size 432x288 with 1 Axes>"
      ]
     },
     "metadata": {
      "needs_background": "light"
     },
     "output_type": "display_data"
    }
   ],
   "source": [
    "# Plot what's returned by model.fit() for accuracy\n",
    "plt.plot(results.history['accuracy'], label='Accuracy')\n",
    "plt.plot(results.history['val_accuracy'], label='Validation Accuracy')\n",
    "plt.title(\"Epochs vs Accuracy\")\n",
    "plt.xlabel(\"epochs\")\n",
    "plt.ylabel(\"Accuracy\")\n",
    "plt.legend()\n",
    "plt.show()"
   ]
  },
  {
   "cell_type": "code",
   "execution_count": null,
   "metadata": {},
   "outputs": [],
   "source": []
  }
 ],
 "metadata": {
  "kernelspec": {
   "display_name": "Python 3",
   "language": "python",
   "name": "python3"
  },
  "language_info": {
   "codemirror_mode": {
    "name": "ipython",
    "version": 3
   },
   "file_extension": ".py",
   "mimetype": "text/x-python",
   "name": "python",
   "nbconvert_exporter": "python",
   "pygments_lexer": "ipython3",
   "version": "3.6.9"
  }
 },
 "nbformat": 4,
 "nbformat_minor": 2
}
