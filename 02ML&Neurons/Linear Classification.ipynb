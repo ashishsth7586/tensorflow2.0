{
 "cells": [
  {
   "cell_type": "markdown",
   "metadata": {},
   "source": [
    "# Breast Cancer Binary Classification"
   ]
  },
  {
   "cell_type": "code",
   "execution_count": 1,
   "metadata": {},
   "outputs": [
    {
     "name": "stdout",
     "output_type": "stream",
     "text": [
      "2.0.0\n"
     ]
    }
   ],
   "source": [
    "import tensorflow as tf\n",
    "from sklearn.datasets import load_breast_cancer\n",
    "print(tf.__version__)"
   ]
  },
  {
   "cell_type": "code",
   "execution_count": 2,
   "metadata": {},
   "outputs": [
    {
     "name": "stdout",
     "output_type": "stream",
     "text": [
      "<class 'sklearn.utils.Bunch'>\n"
     ]
    }
   ],
   "source": [
    "data = load_breast_cancer()\n",
    "# Check the type of 'data'\n",
    "print(type(data))"
   ]
  },
  {
   "cell_type": "code",
   "execution_count": 3,
   "metadata": {},
   "outputs": [
    {
     "data": {
      "text/plain": [
       "dict_keys(['data', 'target', 'target_names', 'DESCR', 'feature_names', 'filename'])"
      ]
     },
     "execution_count": 3,
     "metadata": {},
     "output_type": "execute_result"
    }
   ],
   "source": [
    "# Here the data is a Bunch Object\n",
    "# This basically acts like a dictionary\n",
    "data.keys()"
   ]
  },
  {
   "cell_type": "code",
   "execution_count": 4,
   "metadata": {},
   "outputs": [
    {
     "data": {
      "text/plain": [
       "(569, 30)"
      ]
     },
     "execution_count": 4,
     "metadata": {},
     "output_type": "execute_result"
    }
   ],
   "source": [
    "# 'data' (the_attribute) means the input data\n",
    "data.data.shape"
   ]
  },
  {
   "cell_type": "code",
   "execution_count": 5,
   "metadata": {},
   "outputs": [
    {
     "data": {
      "text/plain": [
       "array([0, 0, 0, 0, 0, 0, 0, 0, 0, 0, 0, 0, 0, 0, 0, 0, 0, 0, 0, 1, 1, 1,\n",
       "       0, 0, 0, 0, 0, 0, 0, 0, 0, 0, 0, 0, 0, 0, 0, 1, 0, 0, 0, 0, 0, 0,\n",
       "       0, 0, 1, 0, 1, 1, 1, 1, 1, 0, 0, 1, 0, 0, 1, 1, 1, 1, 0, 1, 0, 0,\n",
       "       1, 1, 1, 1, 0, 1, 0, 0, 1, 0, 1, 0, 0, 1, 1, 1, 0, 0, 1, 0, 0, 0,\n",
       "       1, 1, 1, 0, 1, 1, 0, 0, 1, 1, 1, 0, 0, 1, 1, 1, 1, 0, 1, 1, 0, 1,\n",
       "       1, 1, 1, 1, 1, 1, 1, 0, 0, 0, 1, 0, 0, 1, 1, 1, 0, 0, 1, 0, 1, 0,\n",
       "       0, 1, 0, 0, 1, 1, 0, 1, 1, 0, 1, 1, 1, 1, 0, 1, 1, 1, 1, 1, 1, 1,\n",
       "       1, 1, 0, 1, 1, 1, 1, 0, 0, 1, 0, 1, 1, 0, 0, 1, 1, 0, 0, 1, 1, 1,\n",
       "       1, 0, 1, 1, 0, 0, 0, 1, 0, 1, 0, 1, 1, 1, 0, 1, 1, 0, 0, 1, 0, 0,\n",
       "       0, 0, 1, 0, 0, 0, 1, 0, 1, 0, 1, 1, 0, 1, 0, 0, 0, 0, 1, 1, 0, 0,\n",
       "       1, 1, 1, 0, 1, 1, 1, 1, 1, 0, 0, 1, 1, 0, 1, 1, 0, 0, 1, 0, 1, 1,\n",
       "       1, 1, 0, 1, 1, 1, 1, 1, 0, 1, 0, 0, 0, 0, 0, 0, 0, 0, 0, 0, 0, 0,\n",
       "       0, 0, 1, 1, 1, 1, 1, 1, 0, 1, 0, 1, 1, 0, 1, 1, 0, 1, 0, 0, 1, 1,\n",
       "       1, 1, 1, 1, 1, 1, 1, 1, 1, 1, 1, 0, 1, 1, 0, 1, 0, 1, 1, 1, 1, 1,\n",
       "       1, 1, 1, 1, 1, 1, 1, 1, 1, 0, 1, 1, 1, 0, 1, 0, 1, 1, 1, 1, 0, 0,\n",
       "       0, 1, 1, 1, 1, 0, 1, 0, 1, 0, 1, 1, 1, 0, 1, 1, 1, 1, 1, 1, 1, 0,\n",
       "       0, 0, 1, 1, 1, 1, 1, 1, 1, 1, 1, 1, 1, 0, 0, 1, 0, 0, 0, 1, 0, 0,\n",
       "       1, 1, 1, 1, 1, 0, 1, 1, 1, 1, 1, 0, 1, 1, 1, 0, 1, 1, 0, 0, 1, 1,\n",
       "       1, 1, 1, 1, 0, 1, 1, 1, 1, 1, 1, 1, 0, 1, 1, 1, 1, 1, 0, 1, 1, 0,\n",
       "       1, 1, 1, 1, 1, 1, 1, 1, 1, 1, 1, 1, 0, 1, 0, 0, 1, 0, 1, 1, 1, 1,\n",
       "       1, 0, 1, 1, 0, 1, 0, 1, 1, 0, 1, 0, 1, 1, 1, 1, 1, 1, 1, 1, 0, 0,\n",
       "       1, 1, 1, 1, 1, 1, 0, 1, 1, 1, 1, 1, 1, 1, 1, 1, 1, 0, 1, 1, 1, 1,\n",
       "       1, 1, 1, 0, 1, 0, 1, 1, 0, 1, 1, 1, 1, 1, 0, 0, 1, 0, 1, 0, 1, 1,\n",
       "       1, 1, 1, 0, 1, 1, 0, 1, 0, 1, 0, 0, 1, 1, 1, 0, 1, 1, 1, 1, 1, 1,\n",
       "       1, 1, 1, 1, 1, 0, 1, 0, 0, 1, 1, 1, 1, 1, 1, 1, 1, 1, 1, 1, 1, 1,\n",
       "       1, 1, 1, 1, 1, 1, 1, 1, 1, 1, 1, 1, 0, 0, 0, 0, 0, 0, 1])"
      ]
     },
     "execution_count": 5,
     "metadata": {},
     "output_type": "execute_result"
    }
   ],
   "source": [
    "# (569, 30) -> 569 Observations and 30 Input features.\n",
    "# 'target'\n",
    "data.target"
   ]
  },
  {
   "cell_type": "code",
   "execution_count": 6,
   "metadata": {},
   "outputs": [
    {
     "data": {
      "text/plain": [
       "array(['malignant', 'benign'], dtype='<U9')"
      ]
     },
     "execution_count": 6,
     "metadata": {},
     "output_type": "execute_result"
    }
   ],
   "source": [
    "# The meaning of target i.e 0 and 1\n",
    "data.target_names"
   ]
  },
  {
   "cell_type": "code",
   "execution_count": 7,
   "metadata": {},
   "outputs": [
    {
     "data": {
      "text/plain": [
       "(569,)"
      ]
     },
     "execution_count": 7,
     "metadata": {},
     "output_type": "execute_result"
    }
   ],
   "source": [
    "# Shape of the target\n",
    "data.target.shape"
   ]
  },
  {
   "cell_type": "code",
   "execution_count": 8,
   "metadata": {},
   "outputs": [
    {
     "data": {
      "text/plain": [
       "array(['mean radius', 'mean texture', 'mean perimeter', 'mean area',\n",
       "       'mean smoothness', 'mean compactness', 'mean concavity',\n",
       "       'mean concave points', 'mean symmetry', 'mean fractal dimension',\n",
       "       'radius error', 'texture error', 'perimeter error', 'area error',\n",
       "       'smoothness error', 'compactness error', 'concavity error',\n",
       "       'concave points error', 'symmetry error',\n",
       "       'fractal dimension error', 'worst radius', 'worst texture',\n",
       "       'worst perimeter', 'worst area', 'worst smoothness',\n",
       "       'worst compactness', 'worst concavity', 'worst concave points',\n",
       "       'worst symmetry', 'worst fractal dimension'], dtype='<U23')"
      ]
     },
     "execution_count": 8,
     "metadata": {},
     "output_type": "execute_result"
    }
   ],
   "source": [
    "data.feature_names"
   ]
  },
  {
   "cell_type": "code",
   "execution_count": 9,
   "metadata": {},
   "outputs": [],
   "source": [
    "# import train_test_split function from sklearn.model_selection\n",
    "from sklearn.model_selection import train_test_split\n",
    "X = data.data\n",
    "Y = data.target\n",
    "# split the data into train and test sets\n",
    "# this lets us simulate how our model will perform in test sets.\n",
    "X_train, X_test, y_train, y_test = train_test_split(X, Y, test_size=0.33)"
   ]
  },
  {
   "cell_type": "code",
   "execution_count": 10,
   "metadata": {},
   "outputs": [
    {
     "name": "stdout",
     "output_type": "stream",
     "text": [
      "The shape of our train set is: (381, 30)\n"
     ]
    }
   ],
   "source": [
    "print(f'The shape of our train set is: {X_train.shape}')\n",
    "\n",
    "m, n = X_train.shape\n",
    "# m and n are the number of training samples and input features respectively."
   ]
  },
  {
   "cell_type": "code",
   "execution_count": 11,
   "metadata": {},
   "outputs": [],
   "source": [
    "# Scale the data\n",
    "# Normalization Z = (x - mhu)/std\n",
    "from sklearn.preprocessing import StandardScaler\n",
    "\n",
    "scaler = StandardScaler()\n",
    "X_train = scaler.fit_transform(X_train)\n",
    "X_test = scaler.fit_transform(X_test)"
   ]
  },
  {
   "cell_type": "code",
   "execution_count": 12,
   "metadata": {},
   "outputs": [
    {
     "name": "stdout",
     "output_type": "stream",
     "text": [
      "Train on 381 samples, validate on 188 samples\n",
      "Epoch 1/100\n",
      "381/381 [==============================] - 1s 3ms/sample - loss: 0.9164 - accuracy: 0.4068 - val_loss: 0.8371 - val_accuracy: 0.4362\n",
      "Epoch 2/100\n",
      "381/381 [==============================] - 0s 172us/sample - loss: 0.8345 - accuracy: 0.4856 - val_loss: 0.7602 - val_accuracy: 0.5106\n",
      "Epoch 3/100\n",
      "381/381 [==============================] - 0s 150us/sample - loss: 0.7602 - accuracy: 0.5722 - val_loss: 0.6942 - val_accuracy: 0.5904\n",
      "Epoch 4/100\n",
      "381/381 [==============================] - 0s 143us/sample - loss: 0.6988 - accuracy: 0.6509 - val_loss: 0.6369 - val_accuracy: 0.6436\n",
      "Epoch 5/100\n",
      "381/381 [==============================] - 0s 162us/sample - loss: 0.6429 - accuracy: 0.7165 - val_loss: 0.5891 - val_accuracy: 0.7128\n",
      "Epoch 6/100\n",
      "381/381 [==============================] - 0s 134us/sample - loss: 0.5981 - accuracy: 0.7533 - val_loss: 0.5468 - val_accuracy: 0.7713\n",
      "Epoch 7/100\n",
      "381/381 [==============================] - 0s 167us/sample - loss: 0.5577 - accuracy: 0.7822 - val_loss: 0.5100 - val_accuracy: 0.7979\n",
      "Epoch 8/100\n",
      "381/381 [==============================] - 0s 210us/sample - loss: 0.5224 - accuracy: 0.8084 - val_loss: 0.4781 - val_accuracy: 0.8351\n",
      "Epoch 9/100\n",
      "381/381 [==============================] - 0s 167us/sample - loss: 0.4914 - accuracy: 0.8215 - val_loss: 0.4500 - val_accuracy: 0.8457\n",
      "Epoch 10/100\n",
      "381/381 [==============================] - 0s 146us/sample - loss: 0.4643 - accuracy: 0.8478 - val_loss: 0.4247 - val_accuracy: 0.8564\n",
      "Epoch 11/100\n",
      "381/381 [==============================] - 0s 142us/sample - loss: 0.4394 - accuracy: 0.8635 - val_loss: 0.4024 - val_accuracy: 0.8670\n",
      "Epoch 12/100\n",
      "381/381 [==============================] - 0s 156us/sample - loss: 0.4170 - accuracy: 0.8661 - val_loss: 0.3822 - val_accuracy: 0.8830\n",
      "Epoch 13/100\n",
      "381/381 [==============================] - 0s 169us/sample - loss: 0.3971 - accuracy: 0.8766 - val_loss: 0.3643 - val_accuracy: 0.8883\n",
      "Epoch 14/100\n",
      "381/381 [==============================] - 0s 242us/sample - loss: 0.3783 - accuracy: 0.8845 - val_loss: 0.3481 - val_accuracy: 0.9043\n",
      "Epoch 15/100\n",
      "381/381 [==============================] - 0s 266us/sample - loss: 0.3615 - accuracy: 0.8950 - val_loss: 0.3329 - val_accuracy: 0.9096\n",
      "Epoch 16/100\n",
      "381/381 [==============================] - 0s 221us/sample - loss: 0.3461 - accuracy: 0.9003 - val_loss: 0.3195 - val_accuracy: 0.9202\n",
      "Epoch 17/100\n",
      "381/381 [==============================] - 0s 165us/sample - loss: 0.3318 - accuracy: 0.9055 - val_loss: 0.3070 - val_accuracy: 0.9202\n",
      "Epoch 18/100\n",
      "381/381 [==============================] - 0s 148us/sample - loss: 0.3188 - accuracy: 0.9055 - val_loss: 0.2956 - val_accuracy: 0.9255\n",
      "Epoch 19/100\n",
      "381/381 [==============================] - 0s 163us/sample - loss: 0.3063 - accuracy: 0.9134 - val_loss: 0.2853 - val_accuracy: 0.9309\n",
      "Epoch 20/100\n",
      "381/381 [==============================] - 0s 161us/sample - loss: 0.2957 - accuracy: 0.9186 - val_loss: 0.2757 - val_accuracy: 0.9309\n",
      "Epoch 21/100\n",
      "381/381 [==============================] - 0s 162us/sample - loss: 0.2850 - accuracy: 0.9213 - val_loss: 0.2666 - val_accuracy: 0.9362\n",
      "Epoch 22/100\n",
      "381/381 [==============================] - 0s 149us/sample - loss: 0.2754 - accuracy: 0.9239 - val_loss: 0.2585 - val_accuracy: 0.9468\n",
      "Epoch 23/100\n",
      "381/381 [==============================] - 0s 163us/sample - loss: 0.2662 - accuracy: 0.9239 - val_loss: 0.2510 - val_accuracy: 0.9468\n",
      "Epoch 24/100\n",
      "381/381 [==============================] - 0s 139us/sample - loss: 0.2580 - accuracy: 0.9239 - val_loss: 0.2441 - val_accuracy: 0.9468\n",
      "Epoch 25/100\n",
      "381/381 [==============================] - 0s 148us/sample - loss: 0.2503 - accuracy: 0.9344 - val_loss: 0.2374 - val_accuracy: 0.9468\n",
      "Epoch 26/100\n",
      "381/381 [==============================] - 0s 139us/sample - loss: 0.2429 - accuracy: 0.9344 - val_loss: 0.2312 - val_accuracy: 0.9468\n",
      "Epoch 27/100\n",
      "381/381 [==============================] - 0s 152us/sample - loss: 0.2363 - accuracy: 0.9344 - val_loss: 0.2254 - val_accuracy: 0.9521\n",
      "Epoch 28/100\n",
      "381/381 [==============================] - 0s 143us/sample - loss: 0.2300 - accuracy: 0.9370 - val_loss: 0.2201 - val_accuracy: 0.9521\n",
      "Epoch 29/100\n",
      "381/381 [==============================] - 0s 130us/sample - loss: 0.2239 - accuracy: 0.9449 - val_loss: 0.2151 - val_accuracy: 0.9521\n",
      "Epoch 30/100\n",
      "381/381 [==============================] - 0s 172us/sample - loss: 0.2183 - accuracy: 0.9449 - val_loss: 0.2103 - val_accuracy: 0.9521\n",
      "Epoch 31/100\n",
      "381/381 [==============================] - 0s 177us/sample - loss: 0.2134 - accuracy: 0.9449 - val_loss: 0.2059 - val_accuracy: 0.9574\n",
      "Epoch 32/100\n",
      "381/381 [==============================] - 0s 168us/sample - loss: 0.2082 - accuracy: 0.9449 - val_loss: 0.2015 - val_accuracy: 0.9574\n",
      "Epoch 33/100\n",
      "381/381 [==============================] - 0s 201us/sample - loss: 0.2036 - accuracy: 0.9475 - val_loss: 0.1975 - val_accuracy: 0.9574\n",
      "Epoch 34/100\n",
      "381/381 [==============================] - 0s 172us/sample - loss: 0.1994 - accuracy: 0.9528 - val_loss: 0.1939 - val_accuracy: 0.9574\n",
      "Epoch 35/100\n",
      "381/381 [==============================] - 0s 139us/sample - loss: 0.1951 - accuracy: 0.9528 - val_loss: 0.1901 - val_accuracy: 0.9574\n",
      "Epoch 36/100\n",
      "381/381 [==============================] - 0s 133us/sample - loss: 0.1913 - accuracy: 0.9528 - val_loss: 0.1869 - val_accuracy: 0.9574\n",
      "Epoch 37/100\n",
      "381/381 [==============================] - 0s 157us/sample - loss: 0.1875 - accuracy: 0.9528 - val_loss: 0.1836 - val_accuracy: 0.9574\n",
      "Epoch 38/100\n",
      "381/381 [==============================] - 0s 192us/sample - loss: 0.1841 - accuracy: 0.9528 - val_loss: 0.1805 - val_accuracy: 0.9574\n",
      "Epoch 39/100\n",
      "381/381 [==============================] - 0s 224us/sample - loss: 0.1808 - accuracy: 0.9554 - val_loss: 0.1776 - val_accuracy: 0.9574\n",
      "Epoch 40/100\n",
      "381/381 [==============================] - 0s 302us/sample - loss: 0.1777 - accuracy: 0.9580 - val_loss: 0.1747 - val_accuracy: 0.9574\n",
      "Epoch 41/100\n",
      "381/381 [==============================] - 0s 165us/sample - loss: 0.1746 - accuracy: 0.9580 - val_loss: 0.1721 - val_accuracy: 0.9574\n",
      "Epoch 42/100\n",
      "381/381 [==============================] - 0s 122us/sample - loss: 0.1717 - accuracy: 0.9633 - val_loss: 0.1695 - val_accuracy: 0.9574\n",
      "Epoch 43/100\n",
      "381/381 [==============================] - 0s 152us/sample - loss: 0.1691 - accuracy: 0.9685 - val_loss: 0.1672 - val_accuracy: 0.9574\n",
      "Epoch 44/100\n",
      "381/381 [==============================] - 0s 139us/sample - loss: 0.1664 - accuracy: 0.9685 - val_loss: 0.1649 - val_accuracy: 0.9574\n",
      "Epoch 45/100\n",
      "381/381 [==============================] - 0s 107us/sample - loss: 0.1640 - accuracy: 0.9685 - val_loss: 0.1626 - val_accuracy: 0.9574\n",
      "Epoch 46/100\n",
      "381/381 [==============================] - 0s 133us/sample - loss: 0.1616 - accuracy: 0.9685 - val_loss: 0.1604 - val_accuracy: 0.9574\n",
      "Epoch 47/100\n",
      "381/381 [==============================] - 0s 141us/sample - loss: 0.1593 - accuracy: 0.9685 - val_loss: 0.1582 - val_accuracy: 0.9574\n",
      "Epoch 48/100\n",
      "381/381 [==============================] - 0s 122us/sample - loss: 0.1571 - accuracy: 0.9711 - val_loss: 0.1563 - val_accuracy: 0.9574\n",
      "Epoch 49/100\n",
      "381/381 [==============================] - 0s 135us/sample - loss: 0.1550 - accuracy: 0.9711 - val_loss: 0.1544 - val_accuracy: 0.9574\n",
      "Epoch 50/100\n",
      "381/381 [==============================] - 0s 125us/sample - loss: 0.1530 - accuracy: 0.9711 - val_loss: 0.1526 - val_accuracy: 0.9574\n",
      "Epoch 51/100\n",
      "381/381 [==============================] - 0s 119us/sample - loss: 0.1510 - accuracy: 0.9738 - val_loss: 0.1508 - val_accuracy: 0.9574\n",
      "Epoch 52/100\n",
      "381/381 [==============================] - 0s 140us/sample - loss: 0.1491 - accuracy: 0.9738 - val_loss: 0.1492 - val_accuracy: 0.9574\n",
      "Epoch 53/100\n",
      "381/381 [==============================] - 0s 196us/sample - loss: 0.1475 - accuracy: 0.9764 - val_loss: 0.1475 - val_accuracy: 0.9574\n",
      "Epoch 54/100\n",
      "381/381 [==============================] - 0s 239us/sample - loss: 0.1456 - accuracy: 0.9764 - val_loss: 0.1459 - val_accuracy: 0.9574\n",
      "Epoch 55/100\n",
      "381/381 [==============================] - 0s 222us/sample - loss: 0.1439 - accuracy: 0.9764 - val_loss: 0.1443 - val_accuracy: 0.9574\n",
      "Epoch 56/100\n",
      "381/381 [==============================] - 0s 150us/sample - loss: 0.1424 - accuracy: 0.9764 - val_loss: 0.1429 - val_accuracy: 0.9574\n",
      "Epoch 57/100\n",
      "381/381 [==============================] - 0s 130us/sample - loss: 0.1408 - accuracy: 0.9790 - val_loss: 0.1415 - val_accuracy: 0.9574\n",
      "Epoch 58/100\n",
      "381/381 [==============================] - 0s 137us/sample - loss: 0.1393 - accuracy: 0.9790 - val_loss: 0.1401 - val_accuracy: 0.9574\n",
      "Epoch 59/100\n",
      "381/381 [==============================] - 0s 133us/sample - loss: 0.1378 - accuracy: 0.9790 - val_loss: 0.1388 - val_accuracy: 0.9574\n",
      "Epoch 60/100\n",
      "381/381 [==============================] - 0s 148us/sample - loss: 0.1364 - accuracy: 0.9790 - val_loss: 0.1375 - val_accuracy: 0.9574\n",
      "Epoch 61/100\n",
      "381/381 [==============================] - 0s 230us/sample - loss: 0.1350 - accuracy: 0.9790 - val_loss: 0.1362 - val_accuracy: 0.9574\n",
      "Epoch 62/100\n",
      "381/381 [==============================] - 0s 260us/sample - loss: 0.1337 - accuracy: 0.9790 - val_loss: 0.1350 - val_accuracy: 0.9574\n",
      "Epoch 63/100\n",
      "381/381 [==============================] - 0s 236us/sample - loss: 0.1324 - accuracy: 0.9790 - val_loss: 0.1339 - val_accuracy: 0.9574\n",
      "Epoch 64/100\n",
      "381/381 [==============================] - 0s 188us/sample - loss: 0.1312 - accuracy: 0.9790 - val_loss: 0.1329 - val_accuracy: 0.9574\n",
      "Epoch 65/100\n",
      "381/381 [==============================] - 0s 128us/sample - loss: 0.1299 - accuracy: 0.9790 - val_loss: 0.1318 - val_accuracy: 0.9574\n",
      "Epoch 66/100\n",
      "381/381 [==============================] - 0s 151us/sample - loss: 0.1288 - accuracy: 0.9816 - val_loss: 0.1306 - val_accuracy: 0.9574\n",
      "Epoch 67/100\n",
      "381/381 [==============================] - 0s 155us/sample - loss: 0.1276 - accuracy: 0.9816 - val_loss: 0.1296 - val_accuracy: 0.9574\n",
      "Epoch 68/100\n",
      "381/381 [==============================] - 0s 158us/sample - loss: 0.1265 - accuracy: 0.9816 - val_loss: 0.1286 - val_accuracy: 0.9574\n",
      "Epoch 69/100\n",
      "381/381 [==============================] - 0s 234us/sample - loss: 0.1255 - accuracy: 0.9816 - val_loss: 0.1276 - val_accuracy: 0.9574\n",
      "Epoch 70/100\n",
      "381/381 [==============================] - 0s 229us/sample - loss: 0.1244 - accuracy: 0.9790 - val_loss: 0.1267 - val_accuracy: 0.9574\n",
      "Epoch 71/100\n",
      "381/381 [==============================] - 0s 215us/sample - loss: 0.1234 - accuracy: 0.9790 - val_loss: 0.1257 - val_accuracy: 0.9574\n",
      "Epoch 72/100\n",
      "381/381 [==============================] - 0s 173us/sample - loss: 0.1224 - accuracy: 0.9790 - val_loss: 0.1249 - val_accuracy: 0.9574\n",
      "Epoch 73/100\n",
      "381/381 [==============================] - 0s 143us/sample - loss: 0.1214 - accuracy: 0.9790 - val_loss: 0.1240 - val_accuracy: 0.9574\n",
      "Epoch 74/100\n",
      "381/381 [==============================] - 0s 155us/sample - loss: 0.1205 - accuracy: 0.9790 - val_loss: 0.1232 - val_accuracy: 0.9628\n",
      "Epoch 75/100\n",
      "381/381 [==============================] - 0s 144us/sample - loss: 0.1196 - accuracy: 0.9790 - val_loss: 0.1223 - val_accuracy: 0.9628\n",
      "Epoch 76/100\n",
      "381/381 [==============================] - 0s 168us/sample - loss: 0.1187 - accuracy: 0.9790 - val_loss: 0.1216 - val_accuracy: 0.9628\n",
      "Epoch 77/100\n",
      "381/381 [==============================] - 0s 181us/sample - loss: 0.1178 - accuracy: 0.9790 - val_loss: 0.1206 - val_accuracy: 0.9628\n",
      "Epoch 78/100\n",
      "381/381 [==============================] - 0s 212us/sample - loss: 0.1169 - accuracy: 0.9790 - val_loss: 0.1199 - val_accuracy: 0.9628\n",
      "Epoch 79/100\n",
      "381/381 [==============================] - 0s 204us/sample - loss: 0.1161 - accuracy: 0.9790 - val_loss: 0.1192 - val_accuracy: 0.9628\n",
      "Epoch 80/100\n",
      "381/381 [==============================] - 0s 206us/sample - loss: 0.1153 - accuracy: 0.9790 - val_loss: 0.1185 - val_accuracy: 0.9628\n",
      "Epoch 81/100\n",
      "381/381 [==============================] - 0s 178us/sample - loss: 0.1145 - accuracy: 0.9790 - val_loss: 0.1178 - val_accuracy: 0.9628\n",
      "Epoch 82/100\n",
      "381/381 [==============================] - 0s 152us/sample - loss: 0.1138 - accuracy: 0.9790 - val_loss: 0.1170 - val_accuracy: 0.9628\n",
      "Epoch 83/100\n",
      "381/381 [==============================] - 0s 130us/sample - loss: 0.1130 - accuracy: 0.9790 - val_loss: 0.1164 - val_accuracy: 0.9628\n",
      "Epoch 84/100\n",
      "381/381 [==============================] - 0s 128us/sample - loss: 0.1122 - accuracy: 0.9790 - val_loss: 0.1158 - val_accuracy: 0.9628\n",
      "Epoch 85/100\n",
      "381/381 [==============================] - 0s 134us/sample - loss: 0.1115 - accuracy: 0.9790 - val_loss: 0.1151 - val_accuracy: 0.9628\n",
      "Epoch 86/100\n",
      "381/381 [==============================] - 0s 133us/sample - loss: 0.1108 - accuracy: 0.9790 - val_loss: 0.1144 - val_accuracy: 0.9628\n",
      "Epoch 87/100\n",
      "381/381 [==============================] - 0s 127us/sample - loss: 0.1101 - accuracy: 0.9790 - val_loss: 0.1138 - val_accuracy: 0.9628\n",
      "Epoch 88/100\n",
      "381/381 [==============================] - 0s 137us/sample - loss: 0.1094 - accuracy: 0.9790 - val_loss: 0.1133 - val_accuracy: 0.9628\n",
      "Epoch 89/100\n",
      "381/381 [==============================] - 0s 144us/sample - loss: 0.1088 - accuracy: 0.9790 - val_loss: 0.1127 - val_accuracy: 0.9628\n",
      "Epoch 90/100\n",
      "381/381 [==============================] - 0s 131us/sample - loss: 0.1081 - accuracy: 0.9790 - val_loss: 0.1121 - val_accuracy: 0.9628\n",
      "Epoch 91/100\n",
      "381/381 [==============================] - 0s 131us/sample - loss: 0.1075 - accuracy: 0.9790 - val_loss: 0.1116 - val_accuracy: 0.9628\n",
      "Epoch 92/100\n",
      "381/381 [==============================] - 0s 140us/sample - loss: 0.1069 - accuracy: 0.9790 - val_loss: 0.1110 - val_accuracy: 0.9628\n",
      "Epoch 93/100\n",
      "381/381 [==============================] - 0s 130us/sample - loss: 0.1062 - accuracy: 0.9790 - val_loss: 0.1104 - val_accuracy: 0.9628\n",
      "Epoch 94/100\n",
      "381/381 [==============================] - 0s 142us/sample - loss: 0.1057 - accuracy: 0.9790 - val_loss: 0.1099 - val_accuracy: 0.9628\n",
      "Epoch 95/100\n",
      "381/381 [==============================] - 0s 142us/sample - loss: 0.1051 - accuracy: 0.9790 - val_loss: 0.1093 - val_accuracy: 0.9628\n",
      "Epoch 96/100\n",
      "381/381 [==============================] - 0s 138us/sample - loss: 0.1045 - accuracy: 0.9790 - val_loss: 0.1088 - val_accuracy: 0.9628\n",
      "Epoch 97/100\n",
      "381/381 [==============================] - 0s 133us/sample - loss: 0.1039 - accuracy: 0.9790 - val_loss: 0.1084 - val_accuracy: 0.9628\n",
      "Epoch 98/100\n",
      "381/381 [==============================] - 0s 143us/sample - loss: 0.1034 - accuracy: 0.9790 - val_loss: 0.1079 - val_accuracy: 0.9628\n",
      "Epoch 99/100\n",
      "381/381 [==============================] - 0s 151us/sample - loss: 0.1028 - accuracy: 0.9790 - val_loss: 0.1075 - val_accuracy: 0.9628\n",
      "Epoch 100/100\n",
      "381/381 [==============================] - 0s 126us/sample - loss: 0.1023 - accuracy: 0.9790 - val_loss: 0.1070 - val_accuracy: 0.9628\n"
     ]
    }
   ],
   "source": [
    "# Build the Model\n",
    "\n",
    "model = tf.keras.models.Sequential([\n",
    "    tf.keras.layers.Input(shape=(n,)),\n",
    "    tf.keras.layers.Dense(units=1, activation='sigmoid')\n",
    "])\n",
    "\n",
    "# Alternative way of initializing the Sequential Class of Keras module\n",
    "# model = tf.keras.models.Sequential() # creating a class object\n",
    "# model.add(tf.keras.layers.Dense(1, input_shape=(n,), activation='sigmoid'))\n",
    "\n",
    "model.compile(optimizer='adam',\n",
    "             loss='binary_crossentropy',\n",
    "             metrics=['accuracy'])\n",
    "\n",
    "# Train the model\n",
    "results = model.fit(x=X_train, \n",
    "                    y=y_train, \n",
    "                    validation_data=(X_test, y_test), \n",
    "                    epochs=100,\n",
    "                   shuffle=True,\n",
    "                   steps_per_epoch=None,\n",
    "                   validation_steps=None,\n",
    "                   workers=4,\n",
    "                   use_multiprocessing=True)"
   ]
  },
  {
   "cell_type": "code",
   "execution_count": 13,
   "metadata": {},
   "outputs": [
    {
     "data": {
      "image/png": "[encoded data removed]",
      "text/plain": [
       "<Figure size 432x288 with 1 Axes>"
      ]
     },
     "metadata": {
      "needs_background": "light"
     },
     "output_type": "display_data"
    }
   ],
   "source": [
    "# Plot what's returned by model.fit()\n",
    "import matplotlib.pyplot as plt\n",
    "plt.plot(results.history['loss'], label='Loss')\n",
    "plt.plot(results.history['val_loss'], label='Validation Loss')\n",
    "plt.title(\"Epochs vs Loss\")\n",
    "plt.xlabel(\"epochs\")\n",
    "plt.ylabel(\"Loss\")\n",
    "plt.legend()\n",
    "plt.show()"
   ]
  },
  {
   "cell_type": "code",
   "execution_count": 14,
   "metadata": {},
   "outputs": [
    {
     "data": {
      "image/png": "[encoded data removed]",
      "text/plain": [
       "<Figure size 432x288 with 1 Axes>"
      ]
     },
     "metadata": {
      "needs_background": "light"
     },
     "output_type": "display_data"
    }
   ],
   "source": [
    "# Plot what's returned by model.fit() for accuracy\n",
    "plt.plot(results.history['accuracy'], label='Accuracy')\n",
    "plt.plot(results.history['val_accuracy'], label='Validation Accuracy')\n",
    "plt.title(\"Epochs vs Accuracy\")\n",
    "plt.xlabel(\"epochs\")\n",
    "plt.ylabel(\"Accuracy\")\n",
    "plt.legend()\n",
    "plt.show()"
   ]
  },
  {
   "cell_type": "markdown",
   "metadata": {},
   "source": [
    "# Part 2: Making Predictions\n"
   ]
  },
  {
   "cell_type": "code",
   "execution_count": 16,
   "metadata": {},
   "outputs": [
    {
     "name": "stdout",
     "output_type": "stream",
     "text": [
      "[[9.95149016e-01]\n",
      " [7.31090605e-01]\n",
      " [9.99662042e-01]\n",
      " [8.96081805e-01]\n",
      " [9.79826212e-01]\n",
      " [1.88052654e-04]\n",
      " [9.60815310e-01]\n",
      " [1.64474040e-01]\n",
      " [9.60438967e-01]\n",
      " [0.00000000e+00]\n",
      " [9.92491603e-01]\n",
      " [3.22818756e-04]\n",
      " [1.80601180e-02]\n",
      " [8.71188879e-01]\n",
      " [9.91705894e-01]\n",
      " [2.89345503e-01]\n",
      " [9.78712559e-01]\n",
      " [1.42237008e-01]\n",
      " [9.97049153e-01]\n",
      " [9.46582913e-01]\n",
      " [9.88730967e-01]\n",
      " [9.03620243e-01]\n",
      " [5.54323196e-06]\n",
      " [9.98112440e-01]\n",
      " [9.94852185e-01]\n",
      " [2.11575627e-03]\n",
      " [7.03815103e-01]\n",
      " [5.68032265e-05]\n",
      " [3.09914351e-02]\n",
      " [9.72569823e-01]\n",
      " [8.54902387e-01]\n",
      " [9.98453259e-01]\n",
      " [8.60807061e-01]\n",
      " [3.84902954e-03]\n",
      " [9.98884201e-01]\n",
      " [9.87714648e-01]\n",
      " [8.54524255e-01]\n",
      " [9.80543494e-01]\n",
      " [7.50900984e-01]\n",
      " [2.15715170e-03]\n",
      " [4.49241906e-01]\n",
      " [9.52568889e-01]\n",
      " [6.59255981e-02]\n",
      " [1.15865469e-03]\n",
      " [1.80231929e-02]\n",
      " [9.68031108e-01]\n",
      " [5.86032391e-01]\n",
      " [1.00699484e-01]\n",
      " [9.99331832e-01]\n",
      " [6.95454776e-02]\n",
      " [7.88800836e-01]\n",
      " [9.34261560e-01]\n",
      " [9.86307621e-01]\n",
      " [1.46276832e-01]\n",
      " [9.86801684e-01]\n",
      " [9.98814464e-01]\n",
      " [9.25976813e-01]\n",
      " [9.97889996e-01]\n",
      " [9.75043297e-01]\n",
      " [7.85614729e-01]\n",
      " [8.03884566e-02]\n",
      " [8.99809599e-01]\n",
      " [8.00934553e-01]\n",
      " [6.80088997e-05]\n",
      " [9.92368221e-01]\n",
      " [9.76071835e-01]\n",
      " [2.23517418e-04]\n",
      " [3.53823900e-02]\n",
      " [1.56882405e-03]\n",
      " [5.62451899e-01]\n",
      " [7.66712785e-01]\n",
      " [6.70462251e-02]\n",
      " [9.99216557e-01]\n",
      " [9.89591241e-01]\n",
      " [9.86266255e-01]\n",
      " [9.90999579e-01]\n",
      " [2.86045372e-02]\n",
      " [9.45756197e-01]\n",
      " [1.80571377e-02]\n",
      " [9.79405701e-01]\n",
      " [2.88448691e-01]\n",
      " [9.97719765e-01]\n",
      " [9.96796906e-01]\n",
      " [9.63629007e-01]\n",
      " [1.63570046e-03]\n",
      " [9.71143723e-01]\n",
      " [9.92522359e-01]\n",
      " [9.84110117e-01]\n",
      " [9.87919211e-01]\n",
      " [1.40070915e-06]\n",
      " [4.78568673e-03]\n",
      " [9.78336394e-01]\n",
      " [9.31253076e-01]\n",
      " [1.44904256e-02]\n",
      " [9.85079050e-01]\n",
      " [1.61694258e-01]\n",
      " [9.85000849e-01]\n",
      " [3.48849595e-02]\n",
      " [1.26521587e-01]\n",
      " [9.38252926e-01]\n",
      " [9.96793985e-01]\n",
      " [9.68198061e-01]\n",
      " [8.51064920e-04]\n",
      " [7.57846713e-01]\n",
      " [9.77550864e-01]\n",
      " [1.67553097e-01]\n",
      " [8.83739471e-01]\n",
      " [2.34334081e-01]\n",
      " [6.55710697e-03]\n",
      " [7.95781612e-04]\n",
      " [9.46463048e-01]\n",
      " [9.75963831e-01]\n",
      " [9.63132501e-01]\n",
      " [9.92709041e-01]\n",
      " [9.46860373e-01]\n",
      " [3.18196416e-03]\n",
      " [9.37986612e-01]\n",
      " [1.70340538e-02]\n",
      " [6.87218606e-02]\n",
      " [2.05622166e-01]\n",
      " [1.97419524e-03]\n",
      " [7.71880150e-06]\n",
      " [9.99039054e-01]\n",
      " [9.87029552e-01]\n",
      " [2.14591593e-01]\n",
      " [7.02439249e-01]\n",
      " [6.36276603e-03]\n",
      " [9.24982309e-01]\n",
      " [7.12185621e-01]\n",
      " [9.18630004e-01]\n",
      " [7.82554448e-01]\n",
      " [1.96059048e-02]\n",
      " [9.58003283e-01]\n",
      " [9.43921268e-01]\n",
      " [9.85317528e-01]\n",
      " [9.93469000e-01]\n",
      " [1.89527869e-03]\n",
      " [6.37501240e-01]\n",
      " [9.89377737e-01]\n",
      " [9.90396678e-01]\n",
      " [8.37650895e-01]\n",
      " [9.75374460e-01]\n",
      " [4.21859324e-02]\n",
      " [8.42818499e-01]\n",
      " [9.93863940e-01]\n",
      " [9.03496981e-01]\n",
      " [3.31029594e-02]\n",
      " [4.05266881e-03]\n",
      " [1.93714172e-01]\n",
      " [1.86132789e-01]\n",
      " [9.77948010e-01]\n",
      " [4.17232513e-07]\n",
      " [9.55018997e-01]\n",
      " [9.50410724e-01]\n",
      " [9.98450160e-01]\n",
      " [9.99134362e-01]\n",
      " [9.90532696e-01]\n",
      " [9.54071283e-01]\n",
      " [9.83549953e-01]\n",
      " [9.84072804e-01]\n",
      " [2.89627969e-01]\n",
      " [1.18175149e-02]\n",
      " [3.21068227e-01]\n",
      " [9.31329429e-01]\n",
      " [9.94117677e-01]\n",
      " [8.94808769e-03]\n",
      " [9.85365748e-01]\n",
      " [9.97144163e-01]\n",
      " [1.15633011e-05]\n",
      " [3.41614246e-01]\n",
      " [2.38418579e-06]\n",
      " [8.91036987e-01]\n",
      " [9.42027688e-01]\n",
      " [9.96379972e-01]\n",
      " [2.24426955e-01]\n",
      " [9.91055608e-01]\n",
      " [9.92785633e-01]\n",
      " [9.88029540e-01]\n",
      " [7.04542696e-02]\n",
      " [9.88914967e-01]\n",
      " [1.97035074e-03]\n",
      " [9.98516738e-01]\n",
      " [9.90671396e-01]\n",
      " [7.20430970e-01]\n",
      " [9.84979451e-01]\n",
      " [1.31187052e-01]\n",
      " [9.79521334e-01]\n",
      " [7.86320190e-04]]\n"
     ]
    }
   ],
   "source": [
    "# make predictions\n",
    "prediction = model.predict(X_test)\n",
    "print(prediction) # They are outputs of the sigmoid, interpreted as probabilities p(y=1|x)"
   ]
  },
  {
   "cell_type": "code",
   "execution_count": 19,
   "metadata": {},
   "outputs": [
    {
     "name": "stdout",
     "output_type": "stream",
     "text": [
      "[1. 1. 1. 1. 1. 0. 1. 0. 1. 0. 1. 0. 0. 1. 1. 0. 1. 0. 1. 1. 1. 1. 0. 1.\n",
      " 1. 0. 1. 0. 0. 1. 1. 1. 1. 0. 1. 1. 1. 1. 1. 0. 0. 1. 0. 0. 0. 1. 1. 0.\n",
      " 1. 0. 1. 1. 1. 0. 1. 1. 1. 1. 1. 1. 0. 1. 1. 0. 1. 1. 0. 0. 0. 1. 1. 0.\n",
      " 1. 1. 1. 1. 0. 1. 0. 1. 0. 1. 1. 1. 0. 1. 1. 1. 1. 0. 0. 1. 1. 0. 1. 0.\n",
      " 1. 0. 0. 1. 1. 1. 0. 1. 1. 0. 1. 0. 0. 0. 1. 1. 1. 1. 1. 0. 1. 0. 0. 0.\n",
      " 0. 0. 1. 1. 0. 1. 0. 1. 1. 1. 1. 0. 1. 1. 1. 1. 0. 1. 1. 1. 1. 1. 0. 1.\n",
      " 1. 1. 0. 0. 0. 0. 1. 0. 1. 1. 1. 1. 1. 1. 1. 1. 0. 0. 0. 1. 1. 0. 1. 1.\n",
      " 0. 0. 0. 1. 1. 1. 0. 1. 1. 1. 0. 1. 0. 1. 1. 1. 1. 0. 1. 0.]\n"
     ]
    }
   ],
   "source": [
    "# Round to get the actual predictions\n",
    "# note: Has to be flattened since the targes are size (m,) while the predictions are size (m,1)\n",
    "import numpy as np\n",
    "final_prediction = np.round(prediction).flatten()\n",
    "\n",
    "print(final_prediction)"
   ]
  },
  {
   "cell_type": "code",
   "execution_count": 38,
   "metadata": {},
   "outputs": [
    {
     "name": "stdout",
     "output_type": "stream",
     "text": [
      "Manually Calculated Accuracy:  0.9627659574468085\n",
      "4/1 [========================================================================================================================] - 0s 2ms/sample - loss: 0.0547 - accuracy: 1.0000\n",
      "Evaluate Output:  [0.002277352074359326, 1.0]\n"
     ]
    }
   ],
   "source": [
    "# Calculate the Accuracy, compare it to evaluate() output\n",
    "print(\"Manually Calculated Accuracy: \", np.mean(final_prediction == y_test))\n",
    "print(\"Evaluate Output: \", model.evaluate(X_test, y_test, steps=1, batch_size=4 ))"
   ]
  },
  {
   "cell_type": "markdown",
   "metadata": {},
   "source": [
    "# Part 3: Saveing and Loading a Model"
   ]
  },
  {
   "cell_type": "code",
   "execution_count": 39,
   "metadata": {},
   "outputs": [],
   "source": [
    "model.save('linearclassifier.h5')"
   ]
  },
  {
   "cell_type": "code",
   "execution_count": 40,
   "metadata": {},
   "outputs": [
    {
     "name": "stdout",
     "output_type": "stream",
     "text": [
      "'Linear Classification.ipynb'  'Linear Regression.ipynb'\r\n",
      " linearclassifier.h5\t        moore.csv\r\n"
     ]
    }
   ],
   "source": [
    "!ls"
   ]
  },
  {
   "cell_type": "code",
   "execution_count": 41,
   "metadata": {},
   "outputs": [
    {
     "name": "stdout",
     "output_type": "stream",
     "text": [
      "[<tensorflow.python.keras.layers.core.Dense object at 0x7f3244132be0>]\n",
      "\r",
      "188/1 [========================================================================================================================================================================================================================================================================================================================================================================================================================================================================================================================================================================================================================================================================================================================================================================================================================================================================================================================================================================================================================================================================================================================================================================================================================================================================================================================================================================================================================================================================================================================================================================================================================================================================================================================================================================================================================================================================================================================================================================================================================================================================================================================================================================================================================================================================================================================================================================================================================================================================================================================================================================================================================================================================================================================================================================================================================================================================================================================================================================================================================================================================================================================================================================================================================================================================================================================================================================================================================================================================================================================================================================================================================================================================================================================================================================================================================================================================================================================================================================================================================================================================================================================================================================================================================================================================================================================================================================================================================================================================================================================================================================================================================================================================================================================================================================================================================================================================================================================================================================================================================================================================================================================================================================================================================================================================================================================================================================================================================================================================================================================================================================================================================================================================================================================================================================================================================================================================] - 0s 431us/sample - loss: 0.0950 - accuracy: 0.9628\n"
     ]
    },
    {
     "data": {
      "text/plain": [
       "[0.10698837786912918, 0.96276593]"
      ]
     },
     "execution_count": 41,
     "metadata": {},
     "output_type": "execute_result"
    }
   ],
   "source": [
    "# Let's load the model and confirm that it still works\n",
    "# Note: There is a bug in Keras where load/save only works if you Don't use the Input() layer explicitly\n",
    "# So make sure you define the model with ONLY Dense(1, input_shape=(n,))\n",
    "# At least, until the bug is fixed\n",
    "model = tf.keras.models.load_model('linearclassifier.h5')\n",
    "print(model.layers)\n",
    "model.evaluate(X_test, y_test)"
   ]
  },
  {
   "cell_type": "code",
   "execution_count": null,
   "metadata": {},
   "outputs": [],
   "source": []
  }
 ],
 "metadata": {
  "kernelspec": {
   "display_name": "Python 3",
   "language": "python",
   "name": "python3"
  },
  "language_info": {
   "codemirror_mode": {
    "name": "ipython",
    "version": 3
   },
   "file_extension": ".py",
   "mimetype": "text/x-python",
   "name": "python",
   "nbconvert_exporter": "python",
   "pygments_lexer": "ipython3",
   "version": "3.6.9"
  }
 },
 "nbformat": 4,
 "nbformat_minor": 2
}
